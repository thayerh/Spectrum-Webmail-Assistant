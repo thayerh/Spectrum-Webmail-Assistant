{
 "cells": [
  {
   "cell_type": "code",
   "execution_count": 50,
   "id": "e286043d",
   "metadata": {},
   "outputs": [],
   "source": [
    "# Importing necessary libraries\n",
    "import numpy as np        # For numerical operations\n",
    "import pandas as pd       # For data manipulation and analysis\n",
    "\n",
    "import csv\n",
    "\n",
    "# Importing WordCloud for text visualization\n",
    "from wordcloud import WordCloud"
   ]
  },
  {
   "cell_type": "code",
   "execution_count": 51,
   "id": "1fd4d6c0",
   "metadata": {},
   "outputs": [],
   "source": [
    "csv.field_size_limit(10**7)\n",
    "USE_PERSONAL_DATA = False\n",
    "\n",
    "df = pd.read_csv('data/TREC-06.csv', encoding='latin1', engine='python')\n",
    "if USE_PERSONAL_DATA:\n",
    "    df_personal = pd.read_csv('data/personal_spam_ham.csv', encoding='latin1', engine='python')"
   ]
  },
  {
   "cell_type": "code",
   "execution_count": 52,
   "id": "c8fbe849",
   "metadata": {},
   "outputs": [
    {
     "name": "stdout",
     "output_type": "stream",
     "text": [
      "<class 'pandas.core.frame.DataFrame'>\n",
      "RangeIndex: 16458 entries, 0 to 16457\n",
      "Data columns (total 7 columns):\n",
      " #   Column    Non-Null Count  Dtype  \n",
      "---  ------    --------------  -----  \n",
      " 0   sender    16190 non-null  object \n",
      " 1   receiver  15920 non-null  object \n",
      " 2   date      15963 non-null  object \n",
      " 3   subject   16080 non-null  object \n",
      " 4   body      16415 non-null  object \n",
      " 5   label     16400 non-null  float64\n",
      " 6   urls      16400 non-null  float64\n",
      "dtypes: float64(2), object(5)\n",
      "memory usage: 900.2+ KB\n"
     ]
    }
   ],
   "source": [
    "df.info()\n",
    "if USE_PERSONAL_DATA:\n",
    "   df_personal.info()"
   ]
  },
  {
   "cell_type": "code",
   "execution_count": 53,
   "id": "26b53813",
   "metadata": {},
   "outputs": [
    {
     "name": "stdout",
     "output_type": "stream",
     "text": [
      "<class 'pandas.core.frame.DataFrame'>\n",
      "RangeIndex: 16458 entries, 0 to 16457\n",
      "Data columns (total 2 columns):\n",
      " #   Column  Non-Null Count  Dtype  \n",
      "---  ------  --------------  -----  \n",
      " 0   text    16458 non-null  object \n",
      " 1   target  16400 non-null  float64\n",
      "dtypes: float64(1), object(1)\n",
      "memory usage: 257.3+ KB\n"
     ]
    }
   ],
   "source": [
    "# Transform every body to \"Subject: \" + subject + \"\\n\" + body\n",
    "df['body'] = df.apply(lambda x: 'Subject: ' + str(x['subject']) + '\\n' + str(x['body']), axis=1)\n",
    "df.drop(columns=['sender', 'receiver', 'date', 'subject', 'urls'], inplace=True, errors='ignore')\n",
    "df.rename(columns = {'label': 'target', 'body': 'text'}, inplace = True)\n",
    "df.info()\n",
    "\n",
    "if USE_PERSONAL_DATA:\n",
    "    df_personal.drop(columns=['Unnamed: 0', 'label'], inplace=True, errors='ignore')\n",
    "    df_personal.rename(columns = {'label_num': 'target'}, inplace = True)\n",
    "    df_personal.info()"
   ]
  },
  {
   "cell_type": "code",
   "execution_count": 54,
   "id": "9651ab1f",
   "metadata": {},
   "outputs": [
    {
     "name": "stdout",
     "output_type": "stream",
     "text": [
      "<class 'pandas.core.frame.DataFrame'>\n",
      "RangeIndex: 16458 entries, 0 to 16457\n",
      "Data columns (total 2 columns):\n",
      " #   Column  Non-Null Count  Dtype  \n",
      "---  ------  --------------  -----  \n",
      " 0   text    16458 non-null  object \n",
      " 1   target  16400 non-null  float64\n",
      "dtypes: float64(1), object(1)\n",
      "memory usage: 257.3+ KB\n"
     ]
    }
   ],
   "source": [
    "if USE_PERSONAL_DATA:\n",
    "    df = pd.concat([df, df_personal], ignore_index=True)\n",
    "df.info()"
   ]
  },
  {
   "cell_type": "code",
   "execution_count": 55,
   "id": "0946001e",
   "metadata": {},
   "outputs": [],
   "source": [
    "from sklearn.preprocessing import LabelEncoder\n",
    "encoder = LabelEncoder()\n",
    "df['target'] = encoder.fit_transform(df['target'])"
   ]
  },
  {
   "cell_type": "code",
   "execution_count": 56,
   "id": "f2c611a8",
   "metadata": {},
   "outputs": [
    {
     "data": {
      "text/plain": [
       "text      0\n",
       "target    0\n",
       "dtype: int64"
      ]
     },
     "execution_count": 56,
     "metadata": {},
     "output_type": "execute_result"
    }
   ],
   "source": [
    "df.isnull().sum()"
   ]
  },
  {
   "cell_type": "code",
   "execution_count": 57,
   "id": "cb10fe92",
   "metadata": {},
   "outputs": [
    {
     "data": {
      "text/plain": [
       "np.int64(41)"
      ]
     },
     "execution_count": 57,
     "metadata": {},
     "output_type": "execute_result"
    }
   ],
   "source": [
    "df.duplicated().sum()\n"
   ]
  },
  {
   "cell_type": "code",
   "execution_count": 58,
   "id": "208c9f4e",
   "metadata": {},
   "outputs": [],
   "source": [
    "#remove Duplicate\n",
    "df = df.drop_duplicates(keep = 'first')"
   ]
  },
  {
   "cell_type": "code",
   "execution_count": 59,
   "id": "d496481b",
   "metadata": {},
   "outputs": [
    {
     "data": {
      "text/plain": [
       "(16417, 2)"
      ]
     },
     "execution_count": 59,
     "metadata": {},
     "output_type": "execute_result"
    }
   ],
   "source": [
    "df.shape"
   ]
  },
  {
   "cell_type": "code",
   "execution_count": 11,
   "id": "31695968",
   "metadata": {},
   "outputs": [
    {
     "name": "stderr",
     "output_type": "stream",
     "text": [
      "[nltk_data] Downloading package stopwords to /home/thayer/nltk_data...\n",
      "[nltk_data]   Package stopwords is already up-to-date!\n",
      "[nltk_data] Downloading package punkt_tab to /home/thayer/nltk_data...\n",
      "[nltk_data]   Package punkt_tab is already up-to-date!\n"
     ]
    }
   ],
   "source": [
    "from utils.transformText import transform_text"
   ]
  },
  {
   "cell_type": "code",
   "execution_count": null,
   "id": "cc89ac8d",
   "metadata": {},
   "outputs": [
    {
     "data": {
      "text/plain": [
       "'go jurong point crazi avail bugi n great world la e buffet cine got amor wat'"
      ]
     },
     "execution_count": 12,
     "metadata": {},
     "output_type": "execute_result"
    }
   ],
   "source": [
    "transform_text('Go until jurong point, crazy.. Available only in bugis n great world la e buffet... Cine there got amore wat...')"
   ]
  },
  {
   "cell_type": "code",
   "execution_count": 13,
   "id": "0a991517",
   "metadata": {},
   "outputs": [],
   "source": [
    "df['transformed_text'] = df['text'].apply(transform_text)"
   ]
  },
  {
   "cell_type": "code",
   "execution_count": 14,
   "id": "3a54deb8",
   "metadata": {},
   "outputs": [],
   "source": [
    "from sklearn.feature_extraction.text import CountVectorizer, TfidfVectorizer\n",
    "cv = CountVectorizer()\n",
    "tfid = TfidfVectorizer(max_features = 3000)"
   ]
  },
  {
   "cell_type": "code",
   "execution_count": 15,
   "id": "c4bc6956",
   "metadata": {},
   "outputs": [],
   "source": [
    "X = tfid.fit_transform(df['transformed_text']).toarray()\n",
    "y = df['target'].values"
   ]
  },
  {
   "cell_type": "code",
   "execution_count": 16,
   "id": "d1112b69",
   "metadata": {},
   "outputs": [],
   "source": [
    "from sklearn.model_selection import train_test_split\n",
    "X_train, X_test , y_train, y_test = train_test_split(X,y,test_size = 0.20, random_state = 2)"
   ]
  },
  {
   "cell_type": "code",
   "execution_count": 17,
   "id": "0a05dc1c",
   "metadata": {},
   "outputs": [],
   "source": [
    "from sklearn.linear_model import LogisticRegression\n",
    "from sklearn.svm import SVC\n",
    "from sklearn.naive_bayes import MultinomialNB\n",
    "from sklearn.tree import DecisionTreeClassifier\n",
    "from sklearn.neighbors import KNeighborsClassifier\n",
    "from sklearn.ensemble import RandomForestClassifier\n",
    "from sklearn.ensemble import AdaBoostClassifier\n",
    "from sklearn.ensemble import BaggingClassifier\n",
    "from sklearn.ensemble import ExtraTreesClassifier\n",
    "from sklearn.ensemble import GradientBoostingClassifier"
   ]
  },
  {
   "cell_type": "code",
   "execution_count": 18,
   "id": "903217db",
   "metadata": {},
   "outputs": [],
   "source": [
    "svc = SVC(kernel= \"sigmoid\", gamma  = 1.0)\n",
    "knc = KNeighborsClassifier()\n",
    "mnb = MultinomialNB()\n",
    "dtc = DecisionTreeClassifier(max_depth = 5)\n",
    "lrc = LogisticRegression(solver = 'liblinear', penalty = 'l1')\n",
    "rfc = RandomForestClassifier(n_estimators = 50, random_state = 2 )\n",
    "abc = AdaBoostClassifier(n_estimators = 50, random_state = 2)\n",
    "bc = BaggingClassifier(n_estimators = 50, random_state = 2)\n",
    "etc = ExtraTreesClassifier(n_estimators = 50, random_state = 2)\n",
    "gbdt = GradientBoostingClassifier(n_estimators = 50, random_state = 2)"
   ]
  },
  {
   "cell_type": "code",
   "execution_count": 19,
   "id": "0b2ff683",
   "metadata": {},
   "outputs": [],
   "source": [
    "clfs = {\n",
    "    'SVC': svc,\n",
    "    'KNN': knc,\n",
    "    'NB': mnb,\n",
    "    'LR': lrc,\n",
    "    'RF': rfc,\n",
    "    'Adaboost': abc,\n",
    "    'Bgc': bc,\n",
    "    'ETC': etc,\n",
    "    'GBDT': gbdt    \n",
    "}\n"
   ]
  },
  {
   "cell_type": "code",
   "execution_count": 20,
   "id": "ae8de71b",
   "metadata": {},
   "outputs": [],
   "source": [
    "from sklearn.metrics import accuracy_score, precision_score\n",
    "def train_classifier(clfs, X_train, y_train, X_test, y_test):\n",
    "    clfs.fit(X_train,y_train)\n",
    "    y_pred = clfs.predict(X_test)\n",
    "    accuracy = accuracy_score(y_test, y_pred)\n",
    "    precision = precision_score(y_test, y_pred)\n",
    "    return accuracy , precision"
   ]
  },
  {
   "cell_type": "code",
   "execution_count": 21,
   "id": "33cc3db6",
   "metadata": {},
   "outputs": [
    {
     "name": "stdout",
     "output_type": "stream",
     "text": [
      "\n",
      "For:  SVC\n",
      "Accuracy:  0.9747081712062257\n",
      "Precision:  0.9518900343642611\n",
      "\n",
      "For:  KNN\n",
      "Accuracy:  0.9552529182879378\n",
      "Precision:  0.9175257731958762\n",
      "\n",
      "For:  NB\n",
      "Accuracy:  0.9377431906614786\n",
      "Precision:  0.8526645768025078\n",
      "\n",
      "For:  LR\n",
      "Accuracy:  0.9542801556420234\n",
      "Precision:  0.8903225806451613\n",
      "\n",
      "For:  RF\n",
      "Accuracy:  0.9698443579766537\n",
      "Precision:  0.9271523178807947\n",
      "\n",
      "For:  Adaboost\n",
      "Accuracy:  0.9212062256809338\n",
      "Precision:  0.8170731707317073\n",
      "\n",
      "For:  Bgc\n",
      "Accuracy:  0.9455252918287937\n",
      "Precision:  0.8770226537216829\n",
      "\n",
      "For:  ETC\n",
      "Accuracy:  0.9688715953307393\n",
      "Precision:  0.9326599326599326\n",
      "\n",
      "For:  GBDT\n",
      "Accuracy:  0.9289883268482491\n",
      "Precision:  0.9186046511627907\n"
     ]
    }
   ],
   "source": [
    "accuracy_scores = []\n",
    "precision_scores = []\n",
    "for name , clfs in clfs.items():\n",
    "    current_accuracy, current_precision = train_classifier(clfs, X_train, y_train, X_test, y_test)\n",
    "    print()\n",
    "    print(\"For: \", name)\n",
    "    print(\"Accuracy: \", current_accuracy)\n",
    "    print(\"Precision: \", current_precision)\n",
    "    \n",
    "    accuracy_scores.append(current_accuracy)\n",
    "    precision_scores.append(current_precision)"
   ]
  },
  {
   "cell_type": "code",
   "execution_count": 22,
   "id": "9b6e2128",
   "metadata": {},
   "outputs": [
    {
     "name": "stdout",
     "output_type": "stream",
     "text": [
      "Accuracy: 0.9591439688715954  Precision: 0.9768339768339769\n"
     ]
    }
   ],
   "source": [
    "clfs = {\n",
    "    'SVC': svc,\n",
    "    'KNN': knc,\n",
    "    'NB': mnb,\n",
    "    'LR': lrc,\n",
    "    'RF': rfc,\n",
    "    'Adaboost': abc,\n",
    "    'Bgc': bc,\n",
    "    'ETC': etc,\n",
    "    'GBDT': gbdt    \n",
    "}\n",
    "y_pred = np.zeros_like(y_test)\n",
    "for name, clfs in clfs.items():\n",
    "    y_pred += clfs.predict(X_test)\n",
    "y_pred = (y_pred > 7).astype(int)  # Majority voting\n",
    "\n",
    "accuracy = accuracy_score(y_test, y_pred)\n",
    "precision = precision_score(y_test, y_pred)\n",
    "print(\"Accuracy:\", accuracy, \" Precision:\", precision)\n",
    "# Accuracy: 0.95995995995996  Precision: 0.9924812030075187"
   ]
  }
 ],
 "metadata": {
  "kernelspec": {
   "display_name": "venv",
   "language": "python",
   "name": "python3"
  },
  "language_info": {
   "codemirror_mode": {
    "name": "ipython",
    "version": 3
   },
   "file_extension": ".py",
   "mimetype": "text/x-python",
   "name": "python",
   "nbconvert_exporter": "python",
   "pygments_lexer": "ipython3",
   "version": "3.10.12"
  }
 },
 "nbformat": 4,
 "nbformat_minor": 5
}
